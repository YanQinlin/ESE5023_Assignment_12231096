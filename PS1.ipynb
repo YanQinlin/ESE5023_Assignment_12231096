{
 "cells": [
  {
   "cell_type": "markdown",
   "metadata": {},
   "source": [
    "# Assignment 01\n",
    "Name: Yan Qinlin  \n",
    "SID: 12231096  \n",
    "Date: 2022/9/30"
   ]
  },
  {
   "cell_type": "code",
   "execution_count": 1,
   "metadata": {},
   "outputs": [],
   "source": [
    "import random\n",
    "from math import *\n",
    "import matplotlib.pyplot as plt\n",
    "import numpy as np"
   ]
  },
  {
   "cell_type": "markdown",
   "metadata": {},
   "source": [
    "## 1. Flowchart"
   ]
  },
  {
   "cell_type": "code",
   "execution_count": 4,
   "metadata": {},
   "outputs": [],
   "source": [
    "def Print_vallues(a, b, c):\n",
    "    output = 0\n",
    "    if(a>b):\n",
    "        if(b>c):\n",
    "            output = (a+b-10*c)\n",
    "        else:\n",
    "            if(a>c):\n",
    "                output = (a+c-10*b)\n",
    "            else:\n",
    "                output = (c+a-10*b)\n",
    "    else:\n",
    "        if(b>c):\n",
    "            if(a>c):\n",
    "                output = (a+c-10*b)\n",
    "            else:\n",
    "                output = (c+a-10*b)\n",
    "        else:\n",
    "            output = (c+b-10*a)\n",
    "    \n",
    "    return(output)"
   ]
  },
  {
   "cell_type": "code",
   "execution_count": 3,
   "metadata": {},
   "outputs": [
    {
     "name": "stdout",
     "output_type": "stream",
     "text": [
      "5\n"
     ]
    }
   ],
   "source": [
    "a = 10\n",
    "b = 5\n",
    "c = 1\n",
    "print(Print_vallues(a, b, c))"
   ]
  },
  {
   "cell_type": "markdown",
   "metadata": {},
   "source": [
    "**Ref:**\n",
    "The attached figure of this question was unclear (one arrow pointed to unknow). So I asked TA Li and Chen for a clear understanding."
   ]
  },
  {
   "cell_type": "markdown",
   "metadata": {},
   "source": [
    "## 2. Continuous celing function"
   ]
  },
  {
   "cell_type": "code",
   "execution_count": 2,
   "metadata": {},
   "outputs": [],
   "source": [
    "def F(x): #使用递归的方法\n",
    "    if (x == 1):\n",
    "        return (x)\n",
    "    else:\n",
    "        return F(ceil(x/3))+2*x\n"
   ]
  },
  {
   "cell_type": "code",
   "execution_count": 3,
   "metadata": {},
   "outputs": [
    {
     "name": "stdout",
     "output_type": "stream",
     "text": [
      "Create a list seperated by a blank space:4 7\n",
      "13\n",
      "21\n"
     ]
    }
   ],
   "source": [
    "list_input = [int(i) for i in input(\"Create a list seperated by a blank space:\").split()]\n",
    "N = len(list_input)\n",
    "for x in range(N):\n",
    "    print(F(list_input[x]))"
   ]
  },
  {
   "cell_type": "markdown",
   "metadata": {},
   "source": [
    "## 3. Dice rolling"
   ]
  },
  {
   "cell_type": "markdown",
   "metadata": {},
   "source": [
    "### 3.1 "
   ]
  },
  {
   "cell_type": "code",
   "execution_count": 99,
   "metadata": {},
   "outputs": [],
   "source": [
    "#概率 \n",
    "##x = 60 #\n",
    "def Find_number_of_ways(x):\n",
    "    # 初始化一些定值：骰子个数和面数\n",
    "    face = 6\n",
    "    dice = 10\n",
    "    value =[]\n",
    "    count = []\n",
    "    \n",
    "    for i in range(1,dice+1):\n",
    "        value.append(list(range(i,(face)*i+1)))   #把每次掷骰子之后所有可能性的sum都写在同一行\n",
    "        count.append(list(0 for j in range(i,(face)*i+1)))   #把每次掷骰子之后所有可能性的方式都写在同一行，这里初始化全是0\n",
    "    count[0] = [1,1,1,1,1,1] #第一次掷骰子的可能性全是1\n",
    "    \n",
    "    for i in range(1,dice):\n",
    "        mid = 0\n",
    "        if (len(value[i])%2==0):  #当前这次掷骰子可能的结果数为偶数\n",
    "            mid =  len(value[i])/2 + i #中位数较小的那个的值 \n",
    "        else:  ##当前这次掷骰子可能的结果数为奇数\n",
    "            mid =  (len(value[i])-1)/2 +1+i #中位数较小的那个的值 \n",
    "            \n",
    "        for j in range(len(value[i])):  #当前位置为value[i][j],   本层要填充count[i][j]\n",
    "            N = 0 \n",
    "            if (value[i][j] <= mid):  #先计算对称的左半边\n",
    "                for k in range(len(value[i-1])):  #在上一次掷骰子的结果中\n",
    "                    if (value[i][j] - value[i-1][k] > 0 and value[i][j] - value[i-1][k] < 7):  #当前骰子数比之前多次累计sum要大\n",
    "                        N = N + count[i-1][k] #记录之前多次累计sum对应的pro\n",
    "                count[i][j] = N\n",
    "                count[i][len(value[i])-1-j] = N\n",
    "     \n",
    "    #找到最终sum在列表pro中的索引，再得到可能的次数\n",
    "    index = value[dice-1].index(x)\n",
    "    N = count[dice-1][index]\n",
    "    return(N)\n"
   ]
  },
  {
   "cell_type": "markdown",
   "metadata": {},
   "source": [
    "**Ref:**\n",
    "The ideas of odd-even sorting and dynamic programming were inspired by the blogs from *xiongxu3381* (https://blog.csdn.net/xiongxu3381/article/details/74853554?spm=1001.2101.3001.6650.1&utm_medium=distribute.pc_relevant.none-task-blog-2%7Edefault%7EBlogCommendFromBaidu%7ERate-1-74853554-blog-80068601.pc_relevant_3mothn_strategy_recovery&depth_1-utm_source=distribute.pc_relevant.none-task-blog-2%7Edefault%7EBlogCommendFromBaidu%7ERate-1-74853554-blog-80068601.pc_relevant_3mothn_strategy_recovery&utm_relevant_index=2) and *CherryCheekAir* (https://blog.csdn.net/u010342040/article/details/80068601?spm=1001.2101.3001.6650.13&utm_medium=distribute.pc_relevant.none-task-blog-2%7Edefault%7EBlogCommendFromBaidu%7ERate-14-80068601-blog-108147269.pc_relevant_multi_platform_whitelistv4&depth_1-utm_source=distribute.pc_relevant.none-task-blog-2%7Edefault%7EBlogCommendFromBaidu%7ERate-14-80068601-blog-108147269.pc_relevant_multi_platform_whitelistv4&utm_relevant_index=13) respectively. "
   ]
  },
  {
   "cell_type": "markdown",
   "metadata": {},
   "source": [
    "### 3.2 count the number and the x yielding the maximum ways"
   ]
  },
  {
   "cell_type": "code",
   "execution_count": 102,
   "metadata": {},
   "outputs": [
    {
     "name": "stdout",
     "output_type": "stream",
     "text": [
      "35\n"
     ]
    }
   ],
   "source": [
    "Number_of_ways = []\n",
    "res_index = []\n",
    "for x in range(10,61):\n",
    "    Number_of_ways.append(Find_number_of_ways(x))  \n",
    "    res_index.append(x)\n",
    "x_yield_max = res_index[res.index(max(Number_of_ways))]\n",
    "print(x_yield_max)"
   ]
  },
  {
   "cell_type": "markdown",
   "metadata": {},
   "source": [
    "## 4. Dynamic programming "
   ]
  },
  {
   "cell_type": "markdown",
   "metadata": {},
   "source": [
    "### 4.1 "
   ]
  },
  {
   "cell_type": "code",
   "execution_count": 5,
   "metadata": {},
   "outputs": [],
   "source": [
    "def Random_integer(N):\n",
    "    lst = []\n",
    "    for i in range(N):\n",
    "        lst.append(int(round(random.random()*10)))\n",
    "    return(lst)"
   ]
  },
  {
   "cell_type": "code",
   "execution_count": 6,
   "metadata": {
    "scrolled": false
   },
   "outputs": [
    {
     "name": "stdout",
     "output_type": "stream",
     "text": [
      "[7, 3, 6, 5, 8, 3, 7, 0, 0, 3, 0, 6, 7, 7, 8, 4, 0, 4, 1, 1, 9, 6, 2, 2, 1, 2, 5, 3, 3, 2, 5, 7, 3, 4, 0, 4, 7, 1, 2, 5, 8, 4, 7, 1, 7, 3, 2, 1, 10, 10, 1, 7, 9, 8, 2, 10, 1, 4, 4, 3, 1, 8, 5, 9, 10, 5, 5, 0, 8, 1, 1, 9, 6, 0, 6, 9, 2, 5, 6, 2, 7, 0, 9, 2, 5, 3, 4, 3, 9, 1, 8, 9, 5, 8, 4, 9, 1, 6, 8, 10]\n"
     ]
    }
   ],
   "source": [
    "print(Random_integer(100))"
   ]
  },
  {
   "cell_type": "markdown",
   "metadata": {},
   "source": [
    "### 4.2"
   ]
  },
  {
   "cell_type": "code",
   "execution_count": 7,
   "metadata": {
    "scrolled": true
   },
   "outputs": [
    {
     "data": {
      "text/plain": [
       "75.0"
      ]
     },
     "execution_count": 7,
     "metadata": {},
     "output_type": "execute_result"
    }
   ],
   "source": [
    "def Sum_averages(n):\n",
    "    lst = Random_integer(n)\n",
    "    #print(lst)\n",
    "    subset = [[]] #用一个空[]初始化二维列表\n",
    "    \n",
    "    for i in lst:\n",
    "        #print([j for j in subset])\n",
    "        subset = subset + [[i] + j for j in subset] #单元素子集+之间出现过的元素=构成新的子集\n",
    "        \n",
    "    del(subset[0])   #去掉第一个元素（一个空[]）\n",
    "    avrg_lst = []   #求均值\n",
    "    for n in subset:\n",
    "        avrg_lst.append(sum(n)/len(n))\n",
    "    #print(avrg_lst)    \n",
    "    return(sum(avrg_lst))\n",
    "Sum_averages(4)  # 函数调用"
   ]
  },
  {
   "cell_type": "markdown",
   "metadata": {},
   "source": [
    "### 4.3 "
   ]
  },
  {
   "cell_type": "code",
   "execution_count": 15,
   "metadata": {},
   "outputs": [
    {
     "data": {
      "image/png": "[encoded data removed]",
      "text/plain": [
       "<Figure size 432x288 with 1 Axes>"
      ]
     },
     "metadata": {
      "needs_background": "light"
     },
     "output_type": "display_data"
    }
   ],
   "source": [
    "Total_sum_averages=[]\n",
    "for N in range(1,21):\n",
    "    Total_sum_averages.append(Sum_averages(N))\n",
    "x = np.linspace(1,20,20)\n",
    "plt.plot(x,Total_sum_averages)\n",
    "plt.xlabel('N',size=15)\n",
    "plt.ylabel('Total sum averages',size=15)\n",
    "plt.show()\n"
   ]
  },
  {
   "cell_type": "markdown",
   "metadata": {},
   "source": [
    "Due to the insufficient memory of disk C, this chunk call Sum_averages with N increasing from 1 to 20. As shown in the figure above, the total sum averages of the subsets rise with the increase of N (the length of the original integer list). Besides, the longer the original list, the larger slope the curve will have. "
   ]
  },
  {
   "cell_type": "markdown",
   "metadata": {},
   "source": [
    "**Ref:**\n",
    "This was inspired by the blogs from 桉夏与猫(https://blog.csdn.net/qq_28790663/article/details/118085473?ops_request_misc=&request_id=&biz_id=102&utm_term=python%E6%B1%82%E4%BB%BB%E6%84%8F%E9%95%BF%E5%BA%A6%E5%88%97%E8%A1%A8%E7%9A%84%E5%AD%90%E9%9B%86&utm_medium=distribute.pc_search_result.none-task-blog-2~blog~sobaiduweb~default-0-118085473.article_score_rank_blog&spm=1018.2226.3001.4450)."
   ]
  },
  {
   "cell_type": "markdown",
   "metadata": {},
   "source": [
    "## 5. Path counting "
   ]
  },
  {
   "cell_type": "markdown",
   "metadata": {},
   "source": [
    "### 5.1"
   ]
  },
  {
   "cell_type": "code",
   "execution_count": 119,
   "metadata": {},
   "outputs": [
    {
     "name": "stdout",
     "output_type": "stream",
     "text": [
      "[[1. 1. 1. 1. 1. 1. 1. 1. 1. 1.]\n",
      " [0. 1. 0. 1. 1. 1. 1. 0. 1. 0.]\n",
      " [1. 0. 0. 1. 1. 1. 1. 0. 1. 0.]\n",
      " [0. 0. 1. 1. 1. 0. 1. 1. 0. 1.]\n",
      " [1. 0. 1. 0. 1. 0. 1. 1. 1. 1.]\n",
      " [1. 1. 1. 1. 1. 0. 1. 1. 0. 0.]\n",
      " [0. 0. 0. 1. 1. 0. 0. 1. 0. 0.]\n",
      " [0. 1. 1. 1. 1. 0. 0. 0. 1. 1.]]\n"
     ]
    }
   ],
   "source": [
    "\n",
    "matrixx = np.ones((M,N))\n",
    "\n",
    "for i in range(M):\n",
    "    for j in range(N):\n",
    "        if ((i == 0 and j == 0) or (i == (M-1) and j == (N-1))):\n",
    "            break\n",
    "        else:\n",
    "            matrixx[i][j] = round(random.random())\n",
    "\n",
    "print(matrixx)    \n",
    "    "
   ]
  },
  {
   "cell_type": "markdown",
   "metadata": {},
   "source": [
    "### 5.2"
   ]
  },
  {
   "cell_type": "code",
   "execution_count": 2,
   "metadata": {},
   "outputs": [],
   "source": [
    "def Count_path(m):   \n",
    "    stack = []\n",
    "    stack.append([1,1])\n",
    "    i=1\n",
    "    j=1\n",
    "    ways = 0\n",
    "    fork = []  #记录岔路口所在节点位置，[i,j,第几次回到岔路口]  第几次回到岔路口=0为第一次来，=1是曾经回溯到此一次\n",
    "    if(ways>3100): return(ways)\n",
    "    while True:\n",
    "        if(ways>3100): return(ways)\n",
    "        if (i==8 and j==10): #判断是否到出口，是的话路径+1\n",
    "            ways +=1\n",
    "            temp = 0\n",
    "            \n",
    "            #print('到终点')\n",
    "            #print(ways)\n",
    "            while (len(stack)>1): #当栈里还有元素时，一直回溯到上一个岔路口\n",
    "                stack.pop()\n",
    "                i = stack[-1][0]; j = stack[-1][1]\n",
    "                if(len(fork)!=0 and i==fork[-1][0] and j==fork[-1][1] and fork[-1][2]==0):\n",
    "                    temp=1\n",
    "                    #print(fork)\n",
    "                    #print([i,j])\n",
    "                    break #当第一次回溯到最远的岔路口\n",
    "                elif(len(fork)!=0 and i==fork[-1][0] and j==fork[-1][1] and fork[-1][2]==1):#当第二次回溯到最远的岔路口！！！！！！！！！！！\n",
    "                    #print(\"到达后第二次回fork\")\n",
    "                    fork.pop()\n",
    "                    if(len(fork)==0):return(ways)\n",
    "                    temp=1\n",
    "                    #print(fork)\n",
    "                    #print(stack)\n",
    "                    continue\n",
    "                    \n",
    "            if(temp==0):return(ways)   #temp=0代表： 最后一种走法被记录后回溯到起点，直接出大循环\n",
    "\n",
    "\n",
    "        if (m[i][j+1]==0 and m[i+1][j]==0): #[[1,0][0, ]] 一共四种情况\n",
    "            #print(\"!!!!!\")\n",
    "            if(len(stack)==0):break#一出来就没路，直接无了\n",
    "            while (len(stack)>1): #一直回溯到上一个fork\n",
    "                stack.pop()\n",
    "                i = stack[-1][0]; j = stack[-1][1]\n",
    "                if(len(fork)!=0 and i==fork[-1][0] and j==fork[-1][1] and fork[-1][2]==0):break #当第一次回溯到最远的岔路口\n",
    "                elif(len(fork)!=0 and i==fork[-1][0] and j==fork[-1][1] and fork[-1][2]==1):#当第二次回溯到最远的岔路口！！！！！！！！！！！\n",
    "                    #print(\"***********\")\n",
    "                    fork.pop()\n",
    "                    if(len(fork)==0):return(ways)\n",
    "                    continue\n",
    "            \n",
    "\n",
    "        elif (m[i][j+1]==1 and m[i+1][j]==0): #[[1,1][0, ]]\n",
    "            stack.append([i,j+1])\n",
    "            j+=1\n",
    "        elif (m[i][j+1]==0 and m[i+1][j]==1): #[[1,0][1, ]]\n",
    "            stack.append([i+1,j])\n",
    "            i+=1\n",
    "        elif (m[i][j+1]==1 and m[i+1][j]==1): #[[1,1][1, ]] 则优先向右走\n",
    "           \n",
    "            if(len(fork)==0):  #此前没有岔路口且第一次遇到岔路口，则优先向右\n",
    "                fork.append([i,j,0])  #记录此处为岔路口fork\n",
    "                stack.append([i,j+1])\n",
    "                j+=1\n",
    "            \n",
    "            elif(list(fork[-1])==[i,j,0] ):  #第一次退回到此，则选择向下走\n",
    "                fork[-1]=[i,j,1] #标记此岔路口回溯过一次\n",
    "                stack.append([i+1,j])  #向下走\n",
    "                i+=1\n",
    "            elif(list(fork[-1])==[i,j,1]):#这是第二次退回到此，则继续回溯\n",
    "                fork.pop()\n",
    "                stack.pop()\n",
    "                    \n",
    "                if(len(stack)==0):break  #已经回溯到起点了,且起点本身就是一个岔路口\n",
    "                while True:#确保一直回溯到上一个岔路口\n",
    "                    if(stack[-1]==[fork[-1][0],fork[-1][1]]):i = stack[-1][0]; j = stack[-1][1];fork[-1]==[i,j,0];break #回溯到上个岔路口作为当前，出循环\n",
    "                    stack.pop()\n",
    "                            \n",
    "            else: #此前有岔路口但第一次到这里，则优先选择向右走\n",
    "                \n",
    "                if(fork[-1][0]!=i or fork[-1][1]!=j):  #如果岔路口列表没有此点（区分回溯）\n",
    "                    fork.append([i,j,0])  #记录此处为岔路口fork\n",
    "                    stack.append([i,j+1])\n",
    "                j+=1\n",
    "\n",
    "   \n",
    "    return(ways)"
   ]
  },
  {
   "cell_type": "markdown",
   "metadata": {},
   "source": [
    "### 5.3"
   ]
  },
  {
   "cell_type": "code",
   "execution_count": 3,
   "metadata": {},
   "outputs": [],
   "source": [
    "def create_matrix(M,N): #生成要求的矩阵，并且四周加一圈0以避免溢出\n",
    "    matrixx = np.ones((M,N))\n",
    "\n",
    "    for i in range(M):\n",
    "        for j in range(N):\n",
    "            if ((i == 0 and j == 0) or (i == (M-1) and j == (N-1))):\n",
    "                break\n",
    "            else:\n",
    "                matrixx[i][j] = round(random.random())\n",
    "    col = np.zeros(M) #行\n",
    "    matrixx = np.c_[col,matrixx,col] #左右两边额外加一列0\n",
    "    row=[]\n",
    "    for i in range(N+2): row.append(0)\n",
    "    matrixx = np.append(matrixx,[row],axis=0)\n",
    "    matrixx = np.insert(matrixx,0,[row],axis=0)#上下两边额外加一行0\n",
    "    return(matrixx)"
   ]
  },
  {
   "cell_type": "code",
   "execution_count": 4,
   "metadata": {},
   "outputs": [
    {
     "name": "stdout",
     "output_type": "stream",
     "text": [
      "[0, 0, 0, 0, 0, 9, 0, 0, 0, 0, 0, 0, 0, 0, 0, 0, 0, 0, 0, 0, 0, 0, 0, 0, 0, 0, 0, 0, 5, 0, 0, 0, 0, 0, 0, 0, 24, 0, 0, 0, 0, 0, 0, 1, 0, 0, 0, 0, 0, 0, 4, 0, 2, 0, 0, 0, 0, 0, 0, 0, 0, 0, 0, 8, 6, 0, 0, 0, 0, 0, 0, 0, 0, 0, 0, 0, 0, 0, 0, 0, 0, 0, 0, 0, 15, 0, 0, 0, 0, 0, 1, 0, 18, 0, 0, 0, 0, 0, 0, 0, 6, 0, 0, 0, 0, 0, 0, 0, 0, 0, 0, 0, 1, 0, 0, 0, 0, 7, 0, 0, 0, 0, 0, 0, 0, 0, 0, 0, 0, 0, 0, 0, 0, 0, 96, 0, 0, 0, 0, 0, 0, 0, 0, 0, 3, 0, 3, 0, 0, 18, 15, 0, 0, 1, 0, 12, 0, 0, 0, 3, 0, 0, 0, 0, 0, 0, 0, 0, 2, 0, 0, 0, 0, 0, 12, 0, 0, 0, 0, 0, 0, 0, 0, 0, 0, 0, 0, 0, 0, 0, 0, 0, 0, 9, 0, 0, 0, 0, 0, 0, 8, 0, 0, 0, 0, 0, 0, 0, 0, 0, 0, 0, 0, 0, 0, 0, 0, 0, 0, 0, 0, 0, 0, 0, 0, 0, 0, 1, 0, 0, 0, 0, 0, 0, 0, 0, 0, 0, 0, 0, 1, 0, 0, 0, 3, 0, 0, 0, 0, 0, 0, 8, 0, 0, 1, 0, 0, 0, 3, 0, 45, 0, 0, 0, 2, 0, 0, 22, 0, 0, 9, 0, 0, 0, 0, 0, 0, 0, 0, 18, 0, 0, 0, 0, 14, 0, 20, 0, 0, 0, 0, 0, 0, 0, 4, 5, 0, 0, 20, 0, 0, 0, 0, 0, 0, 0, 0, 0, 0, 0, 0, 0, 0, 0, 8, 1, 0, 0, 0, 0, 0, 4, 0, 0, 0, 0, 0, 0, 0, 0, 2, 0, 6, 0, 0, 12, 12, 0, 0, 0, 0, 0, 0, 0, 0, 0, 0, 0, 0, 0, 12, 12, 0, 0, 0, 0, 0, 0, 0, 0, 0, 0, 0, 0, 0, 0, 0, 0, 54, 1, 4, 0, 0, 0, 0, 0, 0, 0, 0, 0, 0, 0, 0, 0, 3, 0, 0, 0, 0, 0, 16, 0, 0, 0, 0, 0, 0, 0, 0, 2, 0, 0, 0, 0, 0, 0, 0, 1, 6, 0, 0, 0, 0, 6, 0, 0, 27, 0, 0, 0, 0, 0, 0, 10, 4, 0, 0, 0, 0, 0, 7, 0, 0, 0, 0, 0, 0, 0, 0, 0, 0, 0, 0, 0, 0, 0, 0, 0, 0, 0, 0, 0, 0, 0, 0, 14, 0, 0, 0, 0, 2, 0, 0, 0, 0, 4, 6, 0, 0, 0, 0, 13, 0, 0, 4, 0, 0, 0, 3, 0, 0, 0, 0, 1, 0, 0, 0, 0, 1, 0, 0, 0, 0, 0, 13, 0, 0, 0, 0, 0, 0, 0, 0, 6, 0, 0, 0, 0, 0, 0, 0, 0, 0, 0, 3, 5, 0, 0, 0, 0, 4, 0, 0, 0, 0, 0, 0, 0, 0, 0, 0, 0, 0, 0, 0, 0, 108, 0, 0, 0, 0, 18, 0, 0, 0, 0, 0, 0, 0, 0, 0, 0, 0, 0, 0, 2, 0, 0, 0, 0, 0, 0, 0, 0, 0, 0, 0, 0, 4, 0, 0, 0, 0, 0, 0, 0, 0, 24, 0, 0, 0, 0, 0, 0, 0, 0, 0, 0, 0, 0, 0, 0, 0, 0, 0, 0, 0, 0, 0, 0, 2, 0, 0, 0, 0, 0, 8, 0, 0, 0, 0, 3, 0, 0, 0, 0, 0, 0, 6, 0, 6, 0, 0, 0, 0, 0, 0, 0, 0, 9, 0, 0, 0, 6, 0, 0, 0, 0, 0, 8, 0, 0, 0, 0, 0, 0, 0, 0, 0, 0, 0, 0, 0, 0, 0, 108, 0, 0, 0, 0, 0, 0, 0, 0, 0, 0, 0, 0, 1, 0, 0, 0, 0, 0, 0, 0, 0, 0, 0, 0, 0, 0, 0, 0, 6, 0, 0, 2, 0, 14, 0, 0, 0, 0, 0, 0, 0, 0, 0, 0, 0, 0, 0, 0, 0, 0, 0, 0, 0, 0, 0, 0, 0, 0, 0, 0, 0, 1, 0, 0, 0, 0, 0, 0, 0, 0, 0, 0, 0, 0, 0, 0, 0, 4, 0, 0, 0, 0, 0, 0, 1, 0, 0, 1, 0, 0, 0, 0, 0, 0, 0, 0, 0, 27, 0, 0, 0, 0, 0, 0, 0, 0, 0, 0, 0, 0, 0, 0, 0, 0, 0, 0, 0, 0, 0, 0, 0, 4, 0, 0, 43, 0, 0, 0, 0, 0, 0, 0, 0, 0, 0, 0, 0, 0, 13, 0, 0, 0, 0, 0, 0, 0, 0, 0, 0, 0, 0, 0, 0, 0, 0, 0, 0, 0, 0, 0, 0, 0, 0, 0, 0, 0, 3, 0, 0, 2, 0, 0, 0, 0, 0, 0, 0, 1, 0, 0, 0, 0, 0, 0, 0, 0, 0, 0, 0, 0, 0, 0, 0, 0, 0, 0, 0, 0, 0, 0, 4, 0, 0, 14, 0, 15, 0, 0, 0, 6, 0, 4, 0, 0, 0, 0, 0, 3, 0, 0, 0, 0, 0, 0, 0, 8, 0, 0, 0, 0, 0, 0, 0, 0, 0, 0, 0, 0, 0, 0, 0, 0, 0, 0, 0, 0, 0, 0, 0, 0, 0, 0, 0, 0, 0, 0, 0, 0, 16, 0, 1, 1, 0, 0, 0, 0, 64, 0, 0, 0, 0, 0, 0, 0, 0, 0, 0, 0, 4, 0, 2, 4, 0, 0, 90, 0, 0, 0, 0, 0, 0, 0, 0, 0, 0, 0, 0, 0, 0, 3, 0, 0, 0, 0, 0, 0, 0, 0, 0, 0, 0, 0, 0, 0, 0, 0, 0, 0, 0, 0, 0, 0, 3, 0, 0, 0, 0, 0, 0, 0, 0, 0, 0, 0, 0, 0, 0, 0, 0, 0, 0, 0, 0, 0]\n",
      "1.431\n"
     ]
    }
   ],
   "source": [
    "path = []\n",
    "for i in range(1000):\n",
    "    ma_tmp = create_matrix(8,10)\n",
    "    path.append(Count_path(ma_tmp))\n",
    "print(path)\n",
    "print(np.mean(path)) #1000次计算结果的均值"
   ]
  },
  {
   "cell_type": "markdown",
   "metadata": {},
   "source": [
    "The average of total number of paths from the 1000 runs is a small value (1.431 in this run). That is becuase most of the results turned to be 0."
   ]
  },
  {
   "cell_type": "markdown",
   "metadata": {},
   "source": [
    "**Ref:**\n",
    "The thought of using stack was inspired by the blog of *weixin_39529914* (https://blog.csdn.net/weixin_39529914/article/details/113992567).And the realization of stack in python referred to the website called *geek-docs* (https://geek-docs.com/python/python-examples/python-stack-lifo.html)."
   ]
  }
 ],
 "metadata": {
  "kernelspec": {
   "display_name": "Python 3",
   "language": "python",
   "name": "python3"
  },
  "language_info": {
   "codemirror_mode": {
    "name": "ipython",
    "version": 3
   },
   "file_extension": ".py",
   "mimetype": "text/x-python",
   "name": "python",
   "nbconvert_exporter": "python",
   "pygments_lexer": "ipython3",
   "version": "3.7.4"
  }
 },
 "nbformat": 4,
 "nbformat_minor": 2
}
